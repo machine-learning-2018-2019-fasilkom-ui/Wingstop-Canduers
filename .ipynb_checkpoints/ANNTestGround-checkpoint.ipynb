{
 "cells": [
  {
   "cell_type": "markdown",
   "metadata": {},
   "source": [
    "# Project ML / DSA : Sentiment Analysis dengan CV ANN Classifier"
   ]
  },
  {
   "cell_type": "markdown",
   "metadata": {},
   "source": [
    "### Read Feature (Text) and Target (Rating)"
   ]
  },
  {
   "cell_type": "code",
   "execution_count": 4,
   "metadata": {},
   "outputs": [],
   "source": [
    "from sklearn.datasets import load_files\n",
    "import numpy as np\n",
    "\n",
    "reviews = load_files(\"dataset\", encoding=\"ISO-8859-1\")\n",
    "texts, rating = reviews.data, reviews.target"
   ]
  },
  {
   "cell_type": "markdown",
   "metadata": {},
   "source": [
    "### Custom Test-Train Text Split Method"
   ]
  },
  {
   "cell_type": "code",
   "execution_count": 5,
   "metadata": {},
   "outputs": [],
   "source": [
    "from sklearn.feature_extraction.text import CountVectorizer\n",
    "# from sklearn.decomposition import PCA\n",
    "# from sklearn.preprocessing import StandardScaler\n",
    "from nltk.tokenize import RegexpTokenizer\n",
    "from sklearn.model_selection import train_test_split as tts\n",
    "\n",
    "def train_test_text_split(X, y, test_size=0.25):\n",
    "    # normal split\n",
    "    text_train, text_test, y_train, y_test = tts(texts, rating, test_size=test_size)\n",
    "    \n",
    "    # define tokenizer\n",
    "    token = RegexpTokenizer(r'[a-zA-Z0-9]+')\n",
    "\n",
    "    # define the vectorizer\n",
    "    vect = CountVectorizer(min_df=5, lowercase=True,\n",
    "                           stop_words='english',\n",
    "                           ngram_range = (1,1),\n",
    "                           tokenizer = token.tokenize)\n",
    "    \n",
    "    # vectorize text\n",
    "    X_train = vect.fit(text_train).transform(text_train).todense()\n",
    "    X_test = vect.transform(text_test).todense()\n",
    "    \n",
    "    return X_train, X_test, y_train, y_test\n",
    "    "
   ]
  },
  {
   "cell_type": "code",
   "execution_count": 5,
   "metadata": {},
   "outputs": [],
   "source": []
  },
  {
   "cell_type": "markdown",
   "metadata": {},
   "source": [
    "### Vectorizing Text to get the trainable features"
   ]
  },
  {
   "cell_type": "code",
   "execution_count": 32,
   "metadata": {},
   "outputs": [],
   "source": [
    "from sklearn.feature_extraction.text import CountVectorizer\n",
    "# from sklearn.decomposition import PCA\n",
    "# from sklearn.preprocessing import StandardScaler\n",
    "from nltk.tokenize import RegexpTokenizer\n",
    "\n",
    "# define tokenizer\n",
    "token = RegexpTokenizer(r'[a-zA-Z0-9]+')\n",
    "\n",
    "# define the vectorizer\n",
    "vect = CountVectorizer(min_df=5, lowercase=True,\n",
    "                       stop_words='english',\n",
    "                       ngram_range = (1,1),\n",
    "                       tokenizer = token.tokenize)\n",
    "\n",
    "# define the PCA\n",
    "# pca = PCA(n_components=50)\n",
    "\n",
    "# define the scaler\n",
    "# scaler = StandardScaler()\n",
    "\n",
    "# transform text into trainable vectors\n",
    "\n",
    "X_train = vect.fit(text_train).transform(text_train).todense()\n",
    "X_test = vect.transform(text_test).todense()\n",
    "# X_train_pca = pca.fit(X_train).transform(X_train)\n",
    "# X_test_pca = pca.transform(X_test)"
   ]
  },
  {
   "cell_type": "markdown",
   "metadata": {},
   "source": [
    "### Building The ANN Classifier"
   ]
  },
  {
   "cell_type": "code",
   "execution_count": 6,
   "metadata": {},
   "outputs": [
    {
     "name": "stderr",
     "output_type": "stream",
     "text": [
      "Using TensorFlow backend.\n"
     ]
    }
   ],
   "source": [
    "import keras\n",
    "from keras.models import Sequential\n",
    "from keras.layers import Dense, Dropout\n",
    "from keras.utils import to_categorical\n",
    "import numpy as np\n",
    "\n",
    "def create_ann_clf(feature_count, num_classes):\n",
    "    classifier = Sequential()\n",
    "    hidden_units = (feature_count + 1) // 2\n",
    "    classifier.add(Dense(output_dim = hidden_units, init = 'uniform', \n",
    "                         activation = 'relu', input_dim = feature_count))\n",
    "    classifier.add(Dropout(0.5))\n",
    "    classifier.add(Dense(output_dim = hidden_units, activation = 'relu'))\n",
    "    classifier.add(Dropout(0.5))\n",
    "    classifier.add(Dense(output_dim = num_classes, init = 'uniform', \n",
    "                         activation = 'softmax'))\n",
    "    classifier.compile(optimizer = 'adam', loss = 'categorical_crossentropy', \n",
    "                       metrics = ['accuracy'])\n",
    "    return classifier\n"
   ]
  },
  {
   "cell_type": "markdown",
   "metadata": {},
   "source": [
    "### Create the Hybrind ANN-NB class"
   ]
  },
  {
   "cell_type": "code",
   "execution_count": 9,
   "metadata": {},
   "outputs": [],
   "source": [
    "from sklearn.naive_bayes import MultinomialNB\n",
    "\n",
    "class HybridANNBayesClassifier:\n",
    "    \n",
    "    def __init__(self):\n",
    "        self.bayes_model = MultinomialNB()\n",
    "        \n",
    "    def get_x_with_dk(self, X):\n",
    "        domain_knowledge = self.ann_model.predict(X)\n",
    "        return np.concatenate([np.array(X),np.matrix(np.argmax(domain_knowledge, axis=1)).transpose()], axis=1)\n",
    "    \n",
    "    def fit(self, X, y, cons_len=0):\n",
    "        if cons_len:\n",
    "            self.ann_model = create_ann_clf(X.shape[1], cons_len)\n",
    "        else:\n",
    "            self.ann_model = create_ann_clf(X.shape[1], len(set(y)))\n",
    "        self.ann_model.fit(X, to_categorical(y))\n",
    "        self.bayes_model.fit(self.get_x_with_dk(X), y)\n",
    "        \n",
    "    def score(self, X, y):\n",
    "        return self.bayes_model.score(self.get_x_with_dk(X), y)\n",
    "    \n",
    "    def predict(self, X, y):\n",
    "        return self.bayes_model.predict(self.get_x_with_dk(X))        "
   ]
  },
  {
   "cell_type": "markdown",
   "metadata": {},
   "source": [
    "### Comparison"
   ]
  },
  {
   "cell_type": "markdown",
   "metadata": {},
   "source": [
    "Beside Baseline (Dummy Classifier) and Hybrid ANN-NB, there are 3 other algorithm that'll be used for comparison. They are Logistic Regression, MLPClassifier (ANN), and Naive Bayes."
   ]
  },
  {
   "cell_type": "markdown",
   "metadata": {},
   "source": [
    "#### Performance Report Method"
   ]
  },
  {
   "cell_type": "code",
   "execution_count": 35,
   "metadata": {},
   "outputs": [],
   "source": [
    "import numpy as np\n",
    "def report_performance(report):\n",
    "    for model, scores in report.items():\n",
    "        print(\"Model: \", model)\n",
    "        print(\"Max: \", np.max(scores))\n",
    "        print(\"Min: \", np.min(scores))\n",
    "        print(\"Avg: \", np.mean(scores))\n",
    "        print()"
   ]
  },
  {
   "cell_type": "markdown",
   "metadata": {},
   "source": [
    "#### Model Performance Measuring Method (complete with cross validation)"
   ]
  },
  {
   "cell_type": "code",
   "execution_count": 22,
   "metadata": {},
   "outputs": [],
   "source": [
    "def compare_performances(models, X, y, cv=3):\n",
    "    scores = {}\n",
    "    \n",
    "    # initiate scores\n",
    "    for name in models:\n",
    "        scores[name] = []\n",
    "        \n",
    "    # cross-validate as demanded\n",
    "    for i in range(cv):\n",
    "        \n",
    "        # all models use the same train-test data per cv\n",
    "        X_train, X_test, y_train, y_test = train_test_text_split(X, y, test_size=0.25)\n",
    "        \n",
    "        # iterate all models\n",
    "        for name, model in models.items():\n",
    "            model.fit(X_train,y_train)\n",
    "            scores[name].append(model.score(X_test, y_test))\n",
    "    return scores"
   ]
  },
  {
   "cell_type": "markdown",
   "metadata": {},
   "source": [
    "#### Defining Models"
   ]
  },
  {
   "cell_type": "markdown",
   "metadata": {},
   "source": [
    "Aside from Hybrid ANN-NB model, all other model are used from sklearn library"
   ]
  },
  {
   "cell_type": "code",
   "execution_count": 20,
   "metadata": {},
   "outputs": [],
   "source": [
    "from sklearn.dummy import DummyClassifier\n",
    "from sklearn.linear_model import LogisticRegression\n",
    "from sklearn.neural_network import MLPClassifier\n",
    "\n",
    "models = {'Baseline': DummyClassifier(),\n",
    "          'HybridANN-NB': HybridANNBayesClassifier(),\n",
    "          'ANN': MLPClassifier(),\n",
    "          'Naive Bayes': MultinomialNB(),\n",
    "          'Logistic Regression': LogisticRegression()\n",
    "         }"
   ]
  },
  {
   "cell_type": "markdown",
   "metadata": {},
   "source": [
    "#### Measure all models"
   ]
  },
  {
   "cell_type": "code",
   "execution_count": 39,
   "metadata": {},
   "outputs": [
    {
     "name": "stderr",
     "output_type": "stream",
     "text": [
      "C:\\Users\\PS15S\\Anaconda3\\lib\\site-packages\\ipykernel_launcher.py:12: UserWarning: Update your `Dense` call to the Keras 2 API: `Dense(activation=\"relu\", input_dim=1328, units=664, kernel_initializer=\"uniform\")`\n",
      "  if sys.path[0] == '':\n",
      "C:\\Users\\PS15S\\Anaconda3\\lib\\site-packages\\ipykernel_launcher.py:14: UserWarning: Update your `Dense` call to the Keras 2 API: `Dense(activation=\"relu\", units=664)`\n",
      "  \n",
      "C:\\Users\\PS15S\\Anaconda3\\lib\\site-packages\\ipykernel_launcher.py:17: UserWarning: Update your `Dense` call to the Keras 2 API: `Dense(activation=\"softmax\", units=5, kernel_initializer=\"uniform\")`\n"
     ]
    },
    {
     "name": "stdout",
     "output_type": "stream",
     "text": [
      "Epoch 1/1\n",
      "405/405 [==============================] - 4s 9ms/step - loss: 1.6106 - acc: 0.2568\n"
     ]
    },
    {
     "name": "stderr",
     "output_type": "stream",
     "text": [
      "C:\\Users\\PS15S\\Anaconda3\\lib\\site-packages\\sklearn\\neural_network\\multilayer_perceptron.py:562: ConvergenceWarning: Stochastic Optimizer: Maximum iterations (200) reached and the optimization hasn't converged yet.\n",
      "  % self.max_iter, ConvergenceWarning)\n",
      "C:\\Users\\PS15S\\Anaconda3\\lib\\site-packages\\sklearn\\linear_model\\logistic.py:433: FutureWarning: Default solver will be changed to 'lbfgs' in 0.22. Specify a solver to silence this warning.\n",
      "  FutureWarning)\n",
      "C:\\Users\\PS15S\\Anaconda3\\lib\\site-packages\\sklearn\\linear_model\\logistic.py:460: FutureWarning: Default multi_class will be changed to 'auto' in 0.22. Specify the multi_class option to silence this warning.\n",
      "  \"this warning.\", FutureWarning)\n",
      "C:\\Users\\PS15S\\Anaconda3\\lib\\site-packages\\ipykernel_launcher.py:12: UserWarning: Update your `Dense` call to the Keras 2 API: `Dense(activation=\"relu\", input_dim=1366, units=683, kernel_initializer=\"uniform\")`\n",
      "  if sys.path[0] == '':\n",
      "C:\\Users\\PS15S\\Anaconda3\\lib\\site-packages\\ipykernel_launcher.py:14: UserWarning: Update your `Dense` call to the Keras 2 API: `Dense(activation=\"relu\", units=683)`\n",
      "  \n",
      "C:\\Users\\PS15S\\Anaconda3\\lib\\site-packages\\ipykernel_launcher.py:17: UserWarning: Update your `Dense` call to the Keras 2 API: `Dense(activation=\"softmax\", units=5, kernel_initializer=\"uniform\")`\n"
     ]
    },
    {
     "name": "stdout",
     "output_type": "stream",
     "text": [
      "Epoch 1/1\n",
      "405/405 [==============================] - 4s 11ms/step - loss: 1.6257 - acc: 0.2494\n"
     ]
    },
    {
     "name": "stderr",
     "output_type": "stream",
     "text": [
      "C:\\Users\\PS15S\\Anaconda3\\lib\\site-packages\\sklearn\\neural_network\\multilayer_perceptron.py:562: ConvergenceWarning: Stochastic Optimizer: Maximum iterations (200) reached and the optimization hasn't converged yet.\n",
      "  % self.max_iter, ConvergenceWarning)\n",
      "C:\\Users\\PS15S\\Anaconda3\\lib\\site-packages\\sklearn\\linear_model\\logistic.py:433: FutureWarning: Default solver will be changed to 'lbfgs' in 0.22. Specify a solver to silence this warning.\n",
      "  FutureWarning)\n",
      "C:\\Users\\PS15S\\Anaconda3\\lib\\site-packages\\sklearn\\linear_model\\logistic.py:460: FutureWarning: Default multi_class will be changed to 'auto' in 0.22. Specify the multi_class option to silence this warning.\n",
      "  \"this warning.\", FutureWarning)\n",
      "C:\\Users\\PS15S\\Anaconda3\\lib\\site-packages\\ipykernel_launcher.py:12: UserWarning: Update your `Dense` call to the Keras 2 API: `Dense(activation=\"relu\", input_dim=1324, units=662, kernel_initializer=\"uniform\")`\n",
      "  if sys.path[0] == '':\n",
      "C:\\Users\\PS15S\\Anaconda3\\lib\\site-packages\\ipykernel_launcher.py:14: UserWarning: Update your `Dense` call to the Keras 2 API: `Dense(activation=\"relu\", units=662)`\n",
      "  \n",
      "C:\\Users\\PS15S\\Anaconda3\\lib\\site-packages\\ipykernel_launcher.py:17: UserWarning: Update your `Dense` call to the Keras 2 API: `Dense(activation=\"softmax\", units=5, kernel_initializer=\"uniform\")`\n"
     ]
    },
    {
     "name": "stdout",
     "output_type": "stream",
     "text": [
      "Epoch 1/1\n",
      "405/405 [==============================] - 4s 11ms/step - loss: 1.6261 - acc: 0.2543\n"
     ]
    },
    {
     "name": "stderr",
     "output_type": "stream",
     "text": [
      "C:\\Users\\PS15S\\Anaconda3\\lib\\site-packages\\sklearn\\neural_network\\multilayer_perceptron.py:562: ConvergenceWarning: Stochastic Optimizer: Maximum iterations (200) reached and the optimization hasn't converged yet.\n",
      "  % self.max_iter, ConvergenceWarning)\n",
      "C:\\Users\\PS15S\\Anaconda3\\lib\\site-packages\\sklearn\\linear_model\\logistic.py:433: FutureWarning: Default solver will be changed to 'lbfgs' in 0.22. Specify a solver to silence this warning.\n",
      "  FutureWarning)\n",
      "C:\\Users\\PS15S\\Anaconda3\\lib\\site-packages\\sklearn\\linear_model\\logistic.py:460: FutureWarning: Default multi_class will be changed to 'auto' in 0.22. Specify the multi_class option to silence this warning.\n",
      "  \"this warning.\", FutureWarning)\n",
      "C:\\Users\\PS15S\\Anaconda3\\lib\\site-packages\\ipykernel_launcher.py:12: UserWarning: Update your `Dense` call to the Keras 2 API: `Dense(activation=\"relu\", input_dim=1333, units=667, kernel_initializer=\"uniform\")`\n",
      "  if sys.path[0] == '':\n",
      "C:\\Users\\PS15S\\Anaconda3\\lib\\site-packages\\ipykernel_launcher.py:14: UserWarning: Update your `Dense` call to the Keras 2 API: `Dense(activation=\"relu\", units=667)`\n",
      "  \n",
      "C:\\Users\\PS15S\\Anaconda3\\lib\\site-packages\\ipykernel_launcher.py:17: UserWarning: Update your `Dense` call to the Keras 2 API: `Dense(activation=\"softmax\", units=5, kernel_initializer=\"uniform\")`\n"
     ]
    },
    {
     "name": "stdout",
     "output_type": "stream",
     "text": [
      "Epoch 1/1\n",
      "405/405 [==============================] - 4s 10ms/step - loss: 1.6375 - acc: 0.2519\n"
     ]
    },
    {
     "name": "stderr",
     "output_type": "stream",
     "text": [
      "C:\\Users\\PS15S\\Anaconda3\\lib\\site-packages\\sklearn\\neural_network\\multilayer_perceptron.py:562: ConvergenceWarning: Stochastic Optimizer: Maximum iterations (200) reached and the optimization hasn't converged yet.\n",
      "  % self.max_iter, ConvergenceWarning)\n",
      "C:\\Users\\PS15S\\Anaconda3\\lib\\site-packages\\sklearn\\linear_model\\logistic.py:433: FutureWarning: Default solver will be changed to 'lbfgs' in 0.22. Specify a solver to silence this warning.\n",
      "  FutureWarning)\n",
      "C:\\Users\\PS15S\\Anaconda3\\lib\\site-packages\\sklearn\\linear_model\\logistic.py:460: FutureWarning: Default multi_class will be changed to 'auto' in 0.22. Specify the multi_class option to silence this warning.\n",
      "  \"this warning.\", FutureWarning)\n",
      "C:\\Users\\PS15S\\Anaconda3\\lib\\site-packages\\ipykernel_launcher.py:12: UserWarning: Update your `Dense` call to the Keras 2 API: `Dense(activation=\"relu\", input_dim=1357, units=679, kernel_initializer=\"uniform\")`\n",
      "  if sys.path[0] == '':\n",
      "C:\\Users\\PS15S\\Anaconda3\\lib\\site-packages\\ipykernel_launcher.py:14: UserWarning: Update your `Dense` call to the Keras 2 API: `Dense(activation=\"relu\", units=679)`\n",
      "  \n",
      "C:\\Users\\PS15S\\Anaconda3\\lib\\site-packages\\ipykernel_launcher.py:17: UserWarning: Update your `Dense` call to the Keras 2 API: `Dense(activation=\"softmax\", units=5, kernel_initializer=\"uniform\")`\n"
     ]
    },
    {
     "name": "stdout",
     "output_type": "stream",
     "text": [
      "Epoch 1/1\n",
      "405/405 [==============================] - 4s 10ms/step - loss: 1.6398 - acc: 0.2469\n"
     ]
    },
    {
     "name": "stderr",
     "output_type": "stream",
     "text": [
      "C:\\Users\\PS15S\\Anaconda3\\lib\\site-packages\\sklearn\\linear_model\\logistic.py:433: FutureWarning: Default solver will be changed to 'lbfgs' in 0.22. Specify a solver to silence this warning.\n",
      "  FutureWarning)\n",
      "C:\\Users\\PS15S\\Anaconda3\\lib\\site-packages\\sklearn\\linear_model\\logistic.py:460: FutureWarning: Default multi_class will be changed to 'auto' in 0.22. Specify the multi_class option to silence this warning.\n",
      "  \"this warning.\", FutureWarning)\n",
      "C:\\Users\\PS15S\\Anaconda3\\lib\\site-packages\\ipykernel_launcher.py:12: UserWarning: Update your `Dense` call to the Keras 2 API: `Dense(activation=\"relu\", input_dim=1311, units=656, kernel_initializer=\"uniform\")`\n",
      "  if sys.path[0] == '':\n",
      "C:\\Users\\PS15S\\Anaconda3\\lib\\site-packages\\ipykernel_launcher.py:14: UserWarning: Update your `Dense` call to the Keras 2 API: `Dense(activation=\"relu\", units=656)`\n",
      "  \n",
      "C:\\Users\\PS15S\\Anaconda3\\lib\\site-packages\\ipykernel_launcher.py:17: UserWarning: Update your `Dense` call to the Keras 2 API: `Dense(activation=\"softmax\", units=5, kernel_initializer=\"uniform\")`\n"
     ]
    },
    {
     "name": "stdout",
     "output_type": "stream",
     "text": [
      "Epoch 1/1\n",
      "405/405 [==============================] - 4s 10ms/step - loss: 1.6345 - acc: 0.2395\n"
     ]
    },
    {
     "name": "stderr",
     "output_type": "stream",
     "text": [
      "C:\\Users\\PS15S\\Anaconda3\\lib\\site-packages\\sklearn\\neural_network\\multilayer_perceptron.py:562: ConvergenceWarning: Stochastic Optimizer: Maximum iterations (200) reached and the optimization hasn't converged yet.\n",
      "  % self.max_iter, ConvergenceWarning)\n",
      "C:\\Users\\PS15S\\Anaconda3\\lib\\site-packages\\sklearn\\linear_model\\logistic.py:433: FutureWarning: Default solver will be changed to 'lbfgs' in 0.22. Specify a solver to silence this warning.\n",
      "  FutureWarning)\n",
      "C:\\Users\\PS15S\\Anaconda3\\lib\\site-packages\\sklearn\\linear_model\\logistic.py:460: FutureWarning: Default multi_class will be changed to 'auto' in 0.22. Specify the multi_class option to silence this warning.\n",
      "  \"this warning.\", FutureWarning)\n",
      "C:\\Users\\PS15S\\Anaconda3\\lib\\site-packages\\ipykernel_launcher.py:12: UserWarning: Update your `Dense` call to the Keras 2 API: `Dense(activation=\"relu\", input_dim=1341, units=671, kernel_initializer=\"uniform\")`\n",
      "  if sys.path[0] == '':\n",
      "C:\\Users\\PS15S\\Anaconda3\\lib\\site-packages\\ipykernel_launcher.py:14: UserWarning: Update your `Dense` call to the Keras 2 API: `Dense(activation=\"relu\", units=671)`\n",
      "  \n",
      "C:\\Users\\PS15S\\Anaconda3\\lib\\site-packages\\ipykernel_launcher.py:17: UserWarning: Update your `Dense` call to the Keras 2 API: `Dense(activation=\"softmax\", units=5, kernel_initializer=\"uniform\")`\n"
     ]
    },
    {
     "name": "stdout",
     "output_type": "stream",
     "text": [
      "Epoch 1/1\n",
      "405/405 [==============================] - 4s 11ms/step - loss: 1.6278 - acc: 0.2667\n"
     ]
    },
    {
     "name": "stderr",
     "output_type": "stream",
     "text": [
      "C:\\Users\\PS15S\\Anaconda3\\lib\\site-packages\\sklearn\\linear_model\\logistic.py:433: FutureWarning: Default solver will be changed to 'lbfgs' in 0.22. Specify a solver to silence this warning.\n",
      "  FutureWarning)\n",
      "C:\\Users\\PS15S\\Anaconda3\\lib\\site-packages\\sklearn\\linear_model\\logistic.py:460: FutureWarning: Default multi_class will be changed to 'auto' in 0.22. Specify the multi_class option to silence this warning.\n",
      "  \"this warning.\", FutureWarning)\n",
      "C:\\Users\\PS15S\\Anaconda3\\lib\\site-packages\\ipykernel_launcher.py:12: UserWarning: Update your `Dense` call to the Keras 2 API: `Dense(activation=\"relu\", input_dim=1337, units=669, kernel_initializer=\"uniform\")`\n",
      "  if sys.path[0] == '':\n",
      "C:\\Users\\PS15S\\Anaconda3\\lib\\site-packages\\ipykernel_launcher.py:14: UserWarning: Update your `Dense` call to the Keras 2 API: `Dense(activation=\"relu\", units=669)`\n",
      "  \n",
      "C:\\Users\\PS15S\\Anaconda3\\lib\\site-packages\\ipykernel_launcher.py:17: UserWarning: Update your `Dense` call to the Keras 2 API: `Dense(activation=\"softmax\", units=5, kernel_initializer=\"uniform\")`\n"
     ]
    },
    {
     "name": "stdout",
     "output_type": "stream",
     "text": [
      "Epoch 1/1\n",
      "405/405 [==============================] - 4s 10ms/step - loss: 1.5964 - acc: 0.2938\n"
     ]
    },
    {
     "name": "stderr",
     "output_type": "stream",
     "text": [
      "C:\\Users\\PS15S\\Anaconda3\\lib\\site-packages\\sklearn\\linear_model\\logistic.py:433: FutureWarning: Default solver will be changed to 'lbfgs' in 0.22. Specify a solver to silence this warning.\n",
      "  FutureWarning)\n",
      "C:\\Users\\PS15S\\Anaconda3\\lib\\site-packages\\sklearn\\linear_model\\logistic.py:460: FutureWarning: Default multi_class will be changed to 'auto' in 0.22. Specify the multi_class option to silence this warning.\n",
      "  \"this warning.\", FutureWarning)\n",
      "C:\\Users\\PS15S\\Anaconda3\\lib\\site-packages\\ipykernel_launcher.py:12: UserWarning: Update your `Dense` call to the Keras 2 API: `Dense(activation=\"relu\", input_dim=1336, units=668, kernel_initializer=\"uniform\")`\n",
      "  if sys.path[0] == '':\n",
      "C:\\Users\\PS15S\\Anaconda3\\lib\\site-packages\\ipykernel_launcher.py:14: UserWarning: Update your `Dense` call to the Keras 2 API: `Dense(activation=\"relu\", units=668)`\n",
      "  \n",
      "C:\\Users\\PS15S\\Anaconda3\\lib\\site-packages\\ipykernel_launcher.py:17: UserWarning: Update your `Dense` call to the Keras 2 API: `Dense(activation=\"softmax\", units=5, kernel_initializer=\"uniform\")`\n"
     ]
    },
    {
     "name": "stdout",
     "output_type": "stream",
     "text": [
      "Epoch 1/1\n",
      "405/405 [==============================] - 4s 10ms/step - loss: 1.6136 - acc: 0.2593\n"
     ]
    },
    {
     "name": "stderr",
     "output_type": "stream",
     "text": [
      "C:\\Users\\PS15S\\Anaconda3\\lib\\site-packages\\sklearn\\linear_model\\logistic.py:433: FutureWarning: Default solver will be changed to 'lbfgs' in 0.22. Specify a solver to silence this warning.\n",
      "  FutureWarning)\n",
      "C:\\Users\\PS15S\\Anaconda3\\lib\\site-packages\\sklearn\\linear_model\\logistic.py:460: FutureWarning: Default multi_class will be changed to 'auto' in 0.22. Specify the multi_class option to silence this warning.\n",
      "  \"this warning.\", FutureWarning)\n",
      "C:\\Users\\PS15S\\Anaconda3\\lib\\site-packages\\ipykernel_launcher.py:12: UserWarning: Update your `Dense` call to the Keras 2 API: `Dense(activation=\"relu\", input_dim=1330, units=665, kernel_initializer=\"uniform\")`\n",
      "  if sys.path[0] == '':\n",
      "C:\\Users\\PS15S\\Anaconda3\\lib\\site-packages\\ipykernel_launcher.py:14: UserWarning: Update your `Dense` call to the Keras 2 API: `Dense(activation=\"relu\", units=665)`\n",
      "  \n",
      "C:\\Users\\PS15S\\Anaconda3\\lib\\site-packages\\ipykernel_launcher.py:17: UserWarning: Update your `Dense` call to the Keras 2 API: `Dense(activation=\"softmax\", units=5, kernel_initializer=\"uniform\")`\n"
     ]
    },
    {
     "name": "stdout",
     "output_type": "stream",
     "text": [
      "Epoch 1/1\n",
      "405/405 [==============================] - 5s 11ms/step - loss: 1.6048 - acc: 0.2049\n"
     ]
    },
    {
     "name": "stderr",
     "output_type": "stream",
     "text": [
      "C:\\Users\\PS15S\\Anaconda3\\lib\\site-packages\\sklearn\\linear_model\\logistic.py:433: FutureWarning: Default solver will be changed to 'lbfgs' in 0.22. Specify a solver to silence this warning.\n",
      "  FutureWarning)\n",
      "C:\\Users\\PS15S\\Anaconda3\\lib\\site-packages\\sklearn\\linear_model\\logistic.py:460: FutureWarning: Default multi_class will be changed to 'auto' in 0.22. Specify the multi_class option to silence this warning.\n",
      "  \"this warning.\", FutureWarning)\n"
     ]
    }
   ],
   "source": [
    "report = compare_performances(models, texts, rating, cv=10)"
   ]
  },
  {
   "cell_type": "markdown",
   "metadata": {},
   "source": [
    "#### Performance Report"
   ]
  },
  {
   "cell_type": "code",
   "execution_count": 40,
   "metadata": {},
   "outputs": [
    {
     "name": "stdout",
     "output_type": "stream",
     "text": [
      "Model:  Baseline\n",
      "Max:  0.2222222222222222\n",
      "Min:  0.15555555555555556\n",
      "Avg:  0.20296296296296296\n",
      "\n",
      "Model:  HybridANN-NB\n",
      "Max:  0.4222222222222222\n",
      "Min:  0.32592592592592595\n",
      "Avg:  0.37037037037037035\n",
      "\n",
      "Model:  ANN\n",
      "Max:  0.4\n",
      "Min:  0.28888888888888886\n",
      "Avg:  0.3562962962962963\n",
      "\n",
      "Model:  Naive Bayes\n",
      "Max:  0.4148148148148148\n",
      "Min:  0.28888888888888886\n",
      "Avg:  0.35333333333333333\n",
      "\n",
      "Model:  Logistic Regression\n",
      "Max:  0.4222222222222222\n",
      "Min:  0.362962962962963\n",
      "Avg:  0.39481481481481484\n",
      "\n"
     ]
    }
   ],
   "source": [
    "report_performance(report)"
   ]
  },
  {
   "cell_type": "markdown",
   "metadata": {},
   "source": [
    "### Learning Curve"
   ]
  },
  {
   "cell_type": "markdown",
   "metadata": {},
   "source": [
    "DISCLAIMER : This is not my original code\n",
    "    \n",
    "source : https://gist.github.com/adrialuzllompart/c916c4ce3782a98ab5c92fe82ce0d293#file-plot_learning_curves-py"
   ]
  },
  {
   "cell_type": "code",
   "execution_count": 21,
   "metadata": {},
   "outputs": [],
   "source": [
    "from matplotlib import pyplot as plt\n",
    "from matplotlib.ticker import FuncFormatter\n",
    "\n",
    "def plot_learning_curves(estimator, X_train, y_train, X_val, y_val,\n",
    "                         suptitle='', title='', xlabel='', ylabel='', baseline=DummyClassifier()):\n",
    "    \"\"\"\n",
    "    Plots learning curves for a given estimator.\n",
    "    Parameters\n",
    "    ----------\n",
    "    estimator : sklearn estimator\n",
    "    X_train : list\n",
    "        training set (features)\n",
    "    y_train : list\n",
    "        training set (response)\n",
    "    X_val : list\n",
    "        validation set (features)\n",
    "    y_val : list\n",
    "        validation set (response)\n",
    "    suptitle : str\n",
    "        Chart suptitle\n",
    "    title: str\n",
    "        Chart title\n",
    "    xlabel: str\n",
    "        Label for the X axis\n",
    "    ylabel: str\n",
    "        Label for the y axis\n",
    "    Returns\n",
    "    -------\n",
    "    Plot of learning curves\n",
    "    \"\"\"\n",
    "    \n",
    "    # create lists to store train and validation scores\n",
    "    train_score = []\n",
    "    val_score = []\n",
    "    base_score = []\n",
    "\n",
    "    # create ten incremental training set sizes\n",
    "    training_set_sizes = np.linspace(5, len(X_train), 10, dtype='int')\n",
    "\n",
    "    # for each one of those training set sizes\n",
    "    for i in training_set_sizes:\n",
    "        # fit the model only using that many training examples\n",
    "        estimator.fit(X_train[0:i, :], y_train[0:i], len(set(y_test)))\n",
    "        baseline.fit(X_train[0:i, :], y_train[0:i])\n",
    "        # calculate the training accuracy only using those training examples\n",
    "        train_accuracy = estimator.score(X_train[0:i, :], y_train[0:i])\n",
    "        # calculate the validation accuracy using the whole validation set\n",
    "        val_accuracy = estimator.score(X_val,y_val)\n",
    "        # calculate the baseline accuracy using the whole validation set\n",
    "        base_accuracy = baseline.score(X_val,y_val)\n",
    "        # store the scores in their respective lists\n",
    "        train_score.append(train_accuracy)\n",
    "        val_score.append(val_accuracy)\n",
    "        base_score.append(base_accuracy)\n",
    "        \n",
    "    # plot learning curves\n",
    "    fig, ax = plt.subplots(figsize=(14, 9))\n",
    "    ax.plot(training_set_sizes, train_score, c='gold')\n",
    "    ax.plot(training_set_sizes, val_score, c='steelblue')\n",
    "    ax.plot(training_set_sizes, base_score, c='green')\n",
    "\n",
    "    # format the chart to make it look nice\n",
    "    fig.suptitle(suptitle, fontweight='bold', fontsize='20')\n",
    "    ax.set_title(title, size=20)\n",
    "    ax.set_xlabel(xlabel, size=16)\n",
    "    ax.set_ylabel(ylabel, size=16)\n",
    "    ax.legend(['training score', 'testing score', 'baseline score'], fontsize=16)\n",
    "    ax.tick_params(axis='both', labelsize=12)\n",
    "    ax.set_ylim(0, 1)\n",
    "\n",
    "    def percentages(x, pos):\n",
    "        \"\"\"The two args are the value and tick position\"\"\"\n",
    "        if x < 1:\n",
    "            return '{:1.0f}'.format(x*100)\n",
    "        return '{:1.0f}%'.format(x*100)\n",
    "\n",
    "    def numbers(x, pos):\n",
    "        \"\"\"The two args are the value and tick position\"\"\"\n",
    "        if x >= 1000:\n",
    "            return '{:1,.0f}'.format(x)\n",
    "        return '{:1.0f}'.format(x)\n",
    "\n",
    "    y_formatter = FuncFormatter(percentages)\n",
    "    ax.yaxis.set_major_formatter(y_formatter)\n",
    "\n",
    "    x_formatter = FuncFormatter(numbers)\n",
    "    ax.xaxis.set_major_formatter(x_formatter)"
   ]
  },
  {
   "cell_type": "code",
   "execution_count": 23,
   "metadata": {},
   "outputs": [
    {
     "ename": "TypeError",
     "evalue": "plot_learning_curves() missing 1 required positional argument: 'y_val'",
     "output_type": "error",
     "traceback": [
      "\u001b[1;31m---------------------------------------------------------------------------\u001b[0m",
      "\u001b[1;31mTypeError\u001b[0m                                 Traceback (most recent call last)",
      "\u001b[1;32m<ipython-input-23-40d7262a250b>\u001b[0m in \u001b[0;36m<module>\u001b[1;34m\u001b[0m\n\u001b[0;32m      3\u001b[0m \u001b[1;33m\u001b[0m\u001b[0m\n\u001b[0;32m      4\u001b[0m plot_learning_curves(hybrid_model, X_train, y_train, X_test, y_test,\n\u001b[1;32m----> 5\u001b[1;33m                          suptitle='', title='HybridANNBayes Learning Curve', xlabel='Data Used', ylabel='Accuracy')\n\u001b[0m",
      "\u001b[1;31mTypeError\u001b[0m: plot_learning_curves() missing 1 required positional argument: 'y_val'"
     ]
    }
   ],
   "source": [
    "X_train, X_test, y_train, y_test = train_test_text_split(texts, rating, test_size=0.25)\n",
    "hybrid_model = HybridANNBayesClassifier()\n",
    "\n",
    "plot_learning_curves(hybrid_model, X_train, y_train, X_test, y_test,\n",
    "                         suptitle='', title='HybridANNBayes Learning Curve', xlabel='Data Used', ylabel='Accuracy')"
   ]
  },
  {
   "cell_type": "code",
   "execution_count": null,
   "metadata": {},
   "outputs": [],
   "source": []
  }
 ],
 "metadata": {
  "kernelspec": {
   "display_name": "Python 3",
   "language": "python",
   "name": "python3"
  },
  "language_info": {
   "codemirror_mode": {
    "name": "ipython",
    "version": 3
   },
   "file_extension": ".py",
   "mimetype": "text/x-python",
   "name": "python",
   "nbconvert_exporter": "python",
   "pygments_lexer": "ipython3",
   "version": "3.6.8"
  }
 },
 "nbformat": 4,
 "nbformat_minor": 2
}
